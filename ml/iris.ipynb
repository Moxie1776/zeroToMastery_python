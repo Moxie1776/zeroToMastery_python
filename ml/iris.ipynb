{
 "cells": [
  {
   "cell_type": "code",
   "execution_count": 1,
   "id": "9f85a1bd",
   "metadata": {},
   "outputs": [],
   "source": [
    "#1 - Import the data\n",
    "#2 - Clean the data\n",
    "#3 - Split data. Training Set/Test Set\n",
    "#4 - Create a Model\n",
    "#5 - Check the output\n",
    "#6 - Improve\n",
    "\n",
    "from sklearn.datasets import load_iris\n",
    "from sklearn.model_selection import train_test_split\n",
    "from sklearn.neighbors import KNeighborsClassifier\n",
    "from sklearn import metrics\n",
    "iris = load_iris()"
   ]
  },
  {
   "cell_type": "code",
   "execution_count": 2,
   "id": "166d39a2-af75-47c2-8cfe-7fb89dad677c",
   "metadata": {},
   "outputs": [],
   "source": [
    "X=iris.data\n",
    "y=iris.target\n",
    "\n",
    "feature_names=iris.feature_names\n",
    "target_name=iris.target_names"
   ]
  },
  {
   "cell_type": "code",
   "execution_count": 3,
   "id": "e7b1999b-3b40-4707-aa9a-251bb2c96e2c",
   "metadata": {},
   "outputs": [
    {
     "name": "stdout",
     "output_type": "stream",
     "text": [
      "(105, 4)\n",
      "(45, 4)\n"
     ]
    }
   ],
   "source": [
    "X_train, X_test, y_train, y_test = train_test_split(X, y, test_size=0.30)\n",
    "print(X_train.shape)\n",
    "print(X_test.shape)"
   ]
  },
  {
   "cell_type": "code",
   "execution_count": 4,
   "id": "29ff5e9d-e84c-45a4-93f4-4d8510bf82cb",
   "metadata": {},
   "outputs": [
    {
     "name": "stdout",
     "output_type": "stream",
     "text": [
      "1.0\n"
     ]
    }
   ],
   "source": [
    "knn = KNeighborsClassifier(n_neighbors=3)\n",
    "knn.fit(X_train, y_train)\n",
    "y_pred = knn.predict(X_test)\n",
    "print(metrics.accuracy_score(y_test, y_pred))\n"
   ]
  },
  {
   "cell_type": "code",
   "execution_count": 5,
   "id": "a90eb1f4",
   "metadata": {},
   "outputs": [],
   "source": [
    "# from sklearn.tree import DecisionTreeClassifier\n",
    "# knn = DecisionTreeClassifier()\n",
    "# knn.fit(X_train, y_train)\n",
    "# y_pred = knn.predict(X_test)\n",
    "# print(metrics.accuracy_score(y_test, y_pred))\n"
   ]
  },
  {
   "cell_type": "markdown",
   "id": "691de0bb",
   "metadata": {},
   "source": []
  },
  {
   "cell_type": "code",
   "execution_count": 6,
   "id": "41b52ef9",
   "metadata": {},
   "outputs": [
    {
     "name": "stdout",
     "output_type": "stream",
     "text": [
      "Predictions:  ['versicolor', 'virginica']\n"
     ]
    }
   ],
   "source": [
    "# use trained model to predict iris type\n",
    "sample = [[3,5,4,2], [2,3,5,4]]\n",
    "predictions = knn.predict(sample)\n",
    "predictionSpecies = [iris.target_names[p] for p in predictions]\n",
    "\n",
    "print('Predictions: ', predictionSpecies)"
   ]
  },
  {
   "cell_type": "code",
   "execution_count": 7,
   "id": "49d01e1a",
   "metadata": {},
   "outputs": [
    {
     "data": {
      "text/plain": [
       "['mlbrain.joblib']"
      ]
     },
     "execution_count": 7,
     "metadata": {},
     "output_type": "execute_result"
    }
   ],
   "source": [
    "# save model learning to file\n",
    "from joblib import dump, load\n",
    "dump(knn, 'mlbrain.joblib')"
   ]
  },
  {
   "cell_type": "code",
   "execution_count": 8,
   "id": "69da519b",
   "metadata": {},
   "outputs": [
    {
     "name": "stdout",
     "output_type": "stream",
     "text": [
      "Predictions:  ['versicolor', 'virginica']\n"
     ]
    }
   ],
   "source": [
    "# load model learning from file\n",
    "model = load('mlbrain.joblib')\n",
    "# run learning against initial test set\n",
    "model.predict(X_test)\n",
    "# run made up sample against loaded learning\n",
    "sample = [[3, 5, 4, 2], [2, 3, 5, 4]]\n",
    "predictions = model.predict(sample)\n",
    "predictionSpecies = [iris.target_names[p] for p in predictions]\n",
    "\n",
    "print('Predictions: ', predictionSpecies)"
   ]
  }
 ],
 "metadata": {
  "interpreter": {
   "hash": "a286a6b5ef4ec2e5a2a90dcf4fa0fa8f46e4e93af0926371bb5ae5894abe603f"
  },
  "kernelspec": {
   "display_name": "Python 3.10.4 ('base')",
   "language": "python",
   "name": "python3"
  },
  "language_info": {
   "codemirror_mode": {
    "name": "ipython",
    "version": 3
   },
   "file_extension": ".py",
   "mimetype": "text/x-python",
   "name": "python",
   "nbconvert_exporter": "python",
   "pygments_lexer": "ipython3",
   "version": "3.10.4"
  }
 },
 "nbformat": 4,
 "nbformat_minor": 5
}
